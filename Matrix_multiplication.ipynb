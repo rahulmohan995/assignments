{
  "nbformat": 4,
  "nbformat_minor": 0,
  "metadata": {
    "colab": {
      "name": "Untitled26.ipynb",
      "provenance": [],
      "authorship_tag": "ABX9TyN/lGE7mM2F+Mmi0/zVHX4A",
      "include_colab_link": true
    },
    "kernelspec": {
      "name": "python3",
      "display_name": "Python 3"
    }
  },
  "cells": [
    {
      "cell_type": "markdown",
      "metadata": {
        "id": "view-in-github",
        "colab_type": "text"
      },
      "source": [
        "<a href=\"https://colab.research.google.com/github/rahulmohan995/assignments/blob/master/Matrix_multiplication.ipynb\" target=\"_parent\"><img src=\"https://colab.research.google.com/assets/colab-badge.svg\" alt=\"Open In Colab\"/></a>"
      ]
    },
    {
      "cell_type": "markdown",
      "metadata": {
        "id": "9n1HQEFAFtf9"
      },
      "source": [
        "dot\n",
        "The dot tool returns the dot product of two arrays.\n",
        "import numpy\n",
        "\n",
        "A = numpy.array([ 1, 2 ])\n",
        "B = numpy.array([ 3, 4 ])\n",
        "\n",
        "print numpy.dot(A, B)       #Output : 11\n",
        "cross\n",
        "The cross tool returns the cross product of two arrays.\n",
        "import numpy\n",
        "\n",
        "A = numpy.array([ 1, 2 ])\n",
        "B = numpy.array([ 3, 4 ])\n",
        "\n",
        "print numpy.cross(A, B)     #Output : -2\n",
        "Task\n",
        "You are given two arrays  and . Both have dimensions of X. \n",
        "Your task is to compute their matrix product.\n",
        "Input Format\n",
        "The first line contains the integer . \n",
        "The next  lines contains  space separated integers of array . \n",
        "The following  lines contains  space separated integers of array .\n",
        "Output Format\n",
        "Print the matrix multiplication of  and .\n",
        "Sample Input\n",
        "2\n",
        "1 2\n",
        "3 4\n",
        "1 2\n",
        "3 4\n",
        "Sample Output\n",
        "[[ 7 10]\n",
        " [15 22]]"
      ]
    },
    {
      "cell_type": "code",
      "metadata": {
        "colab": {
          "base_uri": "https://localhost:8080/"
        },
        "id": "WuoDUYwKxSkR",
        "outputId": "2eb2c6de-9f71-4b9d-a885-b76e4a692215"
      },
      "source": [
        "import numpy\n",
        "a=int(input())\n",
        "arr1=numpy.array([list(map(int,input().split())) for _ in range(a)])\n",
        "arr2=numpy.array([list(map(int,input().split())) for _ in range(a)])\n",
        "print(numpy.dot(arr1,arr2))"
      ],
      "execution_count": 32,
      "outputs": [
        {
          "output_type": "stream",
          "text": [
            "2\n",
            "1 2\n",
            "3 4\n",
            "1 2\n",
            "3 4\n",
            "[[ 7 10]\n",
            " [15 22]]\n"
          ],
          "name": "stdout"
        }
      ]
    }
  ]
}